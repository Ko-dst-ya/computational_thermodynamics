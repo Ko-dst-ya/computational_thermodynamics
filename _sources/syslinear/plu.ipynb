{
 "cells": [
  {
   "cell_type": "code",
   "execution_count": 1,
   "id": "76e2425a",
   "metadata": {
    "tags": [
     "remove-cell"
    ]
   },
   "outputs": [
    {
     "data": {
      "text/plain": [
       "plufact"
      ]
     },
     "execution_count": 1,
     "metadata": {},
     "output_type": "execute_result"
    }
   ],
   "source": [
    "include(\"../src.jl\")"
   ]
  },
  {
   "cell_type": "markdown",
   "id": "a0786176",
   "metadata": {},
   "source": [
    "# PLU-разложение\n",
    "\n",
    "Разложение, представленное в предыдущем разделе, существует не всегда.\n",
    "\n",
    "```{proof:demo}\n",
    "```\n",
    "```{raw} html\n",
    "<div class=\"demo\">\n",
    "```\n",
    "\n",
    "Применим разложение к следующей матрице."
   ]
  },
  {
   "cell_type": "code",
   "execution_count": 2,
   "id": "8ee7867f",
   "metadata": {},
   "outputs": [
    {
     "data": {
      "text/plain": [
       "4×4 LowerTriangular{Float64, Matrix{Float64}}:\n",
       "  1.0     ⋅      ⋅    ⋅ \n",
       "  1.0  NaN       ⋅    ⋅ \n",
       "  5.0  -Inf   NaN     ⋅ \n",
       " -8.0   Inf   NaN    1.0"
      ]
     },
     "execution_count": 2,
     "metadata": {},
     "output_type": "execute_result"
    }
   ],
   "source": [
    "A = [\n",
    "     1  2  -1  9;\n",
    "     1  2   1  3;\n",
    "     5  1   8  7;\n",
    "    -8  6   5  1;\n",
    "]\n",
    "L, U = lufact(A)\n",
    "L"
   ]
  },
  {
   "cell_type": "code",
   "execution_count": 3,
   "id": "4ff6bf9e",
   "metadata": {},
   "outputs": [
    {
     "data": {
      "text/plain": [
       "4×4 UpperTriangular{Float64, Matrix{Float64}}:\n",
       " 1.0  2.0  -1.0    9.0\n",
       "  ⋅   0.0   2.0   -6.0\n",
       "  ⋅    ⋅   Inf   -Inf\n",
       "  ⋅    ⋅     ⋅   NaN"
      ]
     },
     "execution_count": 3,
     "metadata": {},
     "output_type": "execute_result"
    }
   ],
   "source": [
    "U"
   ]
  },
  {
   "cell_type": "markdown",
   "id": "fd6821d6",
   "metadata": {},
   "source": [
    "Матрицы разложения имеют `NaN` и `Inf` значения, возникшие в результате деления на ноль. При этом сама матрица обратимая."
   ]
  },
  {
   "cell_type": "code",
   "execution_count": 4,
   "id": "b7cf0986",
   "metadata": {},
   "outputs": [
    {
     "name": "stdout",
     "output_type": "stream",
     "text": [
      "det(A) = 1196.0\n"
     ]
    }
   ],
   "source": [
    "@show det(A);"
   ]
  },
  {
   "cell_type": "markdown",
   "id": "d95c67c6",
   "metadata": {},
   "source": [
    "На первом шаге разложения всё в порядке"
   ]
  },
  {
   "cell_type": "code",
   "execution_count": 5,
   "id": "3836f07a",
   "metadata": {},
   "outputs": [
    {
     "data": {
      "text/plain": [
       "4×4 Matrix{Float64}:\n",
       "  1.0  0.0  0.0  0.0\n",
       "  1.0  1.0  0.0  0.0\n",
       "  5.0  0.0  1.0  0.0\n",
       " -8.0  0.0  0.0  1.0"
      ]
     },
     "execution_count": 5,
     "metadata": {},
     "output_type": "execute_result"
    }
   ],
   "source": [
    "L = diagm(0 => ones(4))\n",
    "U = zeros(4, 4)\n",
    "A₁ = float(copy(A))\n",
    "U[1, :] .= A₁[1, :]\n",
    "L[:, 1] .= A₁[:, 1] ./ U[1, 1]\n",
    "L"
   ]
  },
  {
   "cell_type": "code",
   "execution_count": 6,
   "id": "c0562308",
   "metadata": {},
   "outputs": [
    {
     "data": {
      "text/plain": [
       "4×4 Matrix{Float64}:\n",
       " 0.0   0.0   0.0    0.0\n",
       " 0.0   0.0   2.0   -6.0\n",
       " 0.0  -9.0  13.0  -38.0\n",
       " 0.0  22.0  -3.0   73.0"
      ]
     },
     "execution_count": 6,
     "metadata": {},
     "output_type": "execute_result"
    }
   ],
   "source": [
    "A₂ = A₁ - L[:, 1] * U[1, :]'"
   ]
  },
  {
   "cell_type": "markdown",
   "id": "fe69d129",
   "metadata": {},
   "source": [
    "Из вида матрицы `A₂` понятно, что на втором шаге возникнет деление на ноль. А именно, при присваивании матрице `U` новой строки всё нормально, первое деление на ноль возникает при подсчёте столбца матрицы `L`, поскольку `U[2, 2] == A₂[0, 0]`"
   ]
  },
  {
   "cell_type": "code",
   "execution_count": 7,
   "id": "b952960e",
   "metadata": {},
   "outputs": [
    {
     "data": {
      "text/plain": [
       "4×4 Matrix{Float64}:\n",
       "  1.0  NaN   0.0  0.0\n",
       "  1.0  NaN   0.0  0.0\n",
       "  5.0  -Inf  1.0  0.0\n",
       " -8.0   Inf  0.0  1.0"
      ]
     },
     "execution_count": 7,
     "metadata": {},
     "output_type": "execute_result"
    }
   ],
   "source": [
    "U[2, :] .= A₂[2, :]\n",
    "L[:, 2] .= A₂[:, 2] ./ U[2, 2];\n",
    "L"
   ]
  },
  {
   "cell_type": "markdown",
   "id": "8ac3633b",
   "metadata": {},
   "source": [
    "Полученные `NaN` и `Inf` значения распроcтранятся в результате операции"
   ]
  },
  {
   "cell_type": "code",
   "execution_count": 8,
   "id": "7130dc01",
   "metadata": {},
   "outputs": [
    {
     "data": {
      "text/plain": [
       "4×4 Matrix{Float64}:\n",
       " NaN  NaN  NaN   NaN\n",
       " NaN  NaN  NaN   NaN\n",
       " NaN  NaN   Inf  -Inf\n",
       " NaN  NaN  -Inf   Inf"
      ]
     },
     "execution_count": 8,
     "metadata": {},
     "output_type": "execute_result"
    }
   ],
   "source": [
    "A₃ = A₂ - L[:, 2] * U[2, :]'"
   ]
  },
  {
   "cell_type": "markdown",
   "id": "5c43e227",
   "metadata": {},
   "source": [
    "```{raw} html\n",
    "</div>\n",
    "```\n",
    "\n",
    "Чтобы подобной ситуации для обратимых матриц не возникало, достаточно на итерации выбирать главный элемент.\n",
    "\n",
    "## Выбор главного элемента\n",
    "\n",
    "Гланым элементом называют диагональный элемент матрицы `U[k, k]`, который возникает в строке функции {numref}`Функция {number} <function-lufact>`\n",
    "\n",
    "```julia\n",
    "for k in 1:n-1\n",
    "    U[k, :] .= Aₖ[k, :]\n",
    "    L[:, k] .= Aₖ[:, k] ./ U[k, k]\n",
    "    Aₖ .-= L[:, k] * U[k, :]'\n",
    "end\n",
    "``` \n",
    "\n",
    "Чтобы избежать делений на ноль, необходимо выбрать в качестве *главного элемента* ненулевой $p$-ый элемент $k$-ого столбца матрицы `Aₖ`. И затем уже работать со строкой `Aₖ[p, :]` в теле цикла, которую называют *главной строкой*.\n",
    "\n",
    "Выбрать главный элемент можно разными способами, однако, численная стабильность разложения достигается при выборе элемента с максимальным абсолютным значением.\n",
    "\n",
    "```{proof:demo}\n",
    "```\n",
    "```{raw} html\n",
    "<div class=\"demo\">\n",
    "```\n",
    "\n",
    "Рассмотрим ту же матрицу, что и в начале раздела."
   ]
  },
  {
   "cell_type": "code",
   "execution_count": 9,
   "id": "01315a40",
   "metadata": {},
   "outputs": [],
   "source": [
    "A = [\n",
    "     1  2  -1  9;\n",
    "     1  2   1  3;\n",
    "     5  1   8  7;\n",
    "    -8  6   5  1;\n",
    "]\n",
    "L = diagm(0 => ones(4))\n",
    "U = zeros(4, 4)\n",
    "A₁ = float(copy(A));"
   ]
  },
  {
   "cell_type": "markdown",
   "id": "4c0f7eb5",
   "metadata": {},
   "source": [
    "Но на этот раз будем производить выбор главного элемента."
   ]
  },
  {
   "cell_type": "code",
   "execution_count": 10,
   "id": "057f2e42",
   "metadata": {},
   "outputs": [
    {
     "name": "stdout",
     "output_type": "stream",
     "text": [
      "p = 4\n",
      "A₁[p, 1] = -8.0\n"
     ]
    }
   ],
   "source": [
    "p = argmax(abs.(A₁[:, 1]))\n",
    "@show p\n",
    "@show A₁[p, 1];"
   ]
  },
  {
   "cell_type": "markdown",
   "id": "0851d2d0",
   "metadata": {},
   "source": [
    "Функция `argmax` возвращает индекс наибольшего элемента массива. В качестве массива используется столбец из абсолютных значений столбца матрицы `A₁[:, 1]`.\n",
    "\n",
    "Проведём обновление матриц разложения и убедимся, что на этот раз `L` не содержит неопределённых float-значений."
   ]
  },
  {
   "cell_type": "code",
   "execution_count": 11,
   "id": "e13d7958",
   "metadata": {},
   "outputs": [
    {
     "data": {
      "text/plain": [
       "4×4 Matrix{Float64}:\n",
       " -0.125  0.0  0.0  0.0\n",
       " -0.125  1.0  0.0  0.0\n",
       " -0.625  0.0  1.0  0.0\n",
       "  1.0    0.0  0.0  1.0"
      ]
     },
     "execution_count": 11,
     "metadata": {},
     "output_type": "execute_result"
    }
   ],
   "source": [
    "U[1, :] .= A₁[p, :]\n",
    "L[:, 1] .= A₁[:, 1] ./ U[1, 1];\n",
    "L"
   ]
  },
  {
   "cell_type": "markdown",
   "id": "a90a678f",
   "metadata": {},
   "source": [
    "Завершим шаг"
   ]
  },
  {
   "cell_type": "code",
   "execution_count": 12,
   "id": "6bf18a48",
   "metadata": {},
   "outputs": [
    {
     "data": {
      "text/plain": [
       "4×4 Matrix{Float64}:\n",
       " 0.0  2.75  -0.375  9.125\n",
       " 0.0  2.75   1.625  3.125\n",
       " 0.0  4.75  11.125  7.625\n",
       " 0.0  0.0    0.0    0.0"
      ]
     },
     "execution_count": 12,
     "metadata": {},
     "output_type": "execute_result"
    }
   ],
   "source": [
    "A₂ = A₁ - L[:, 1] * U[1, :]'"
   ]
  },
  {
   "cell_type": "markdown",
   "id": "f3d46295",
   "metadata": {},
   "source": [
    "Поскольку главным элементом был четвёртый, то и `A₂` имеет нулевую четвёртую строку.\n",
    "\n",
    "Продолжим шаги дальше"
   ]
  },
  {
   "cell_type": "code",
   "execution_count": 13,
   "id": "505fbf9c",
   "metadata": {},
   "outputs": [
    {
     "name": "stdout",
     "output_type": "stream",
     "text": [
      "p = argmax(abs.(A₂[:, 2])) = 3\n",
      "p = argmax(abs.(A₃[:, 3])) = 1\n",
      "p = argmax(abs.(A₄[:, 4])) = 2\n"
     ]
    }
   ],
   "source": [
    "@show p = argmax(abs.(A₂[:, 2]))\n",
    "U[2, :] .= A₂[p, :]\n",
    "L[:, 2] .= A₂[:, 2] ./ U[2, 2]\n",
    "A₃ = A₂ - L[:, 2] * U[2, :]'\n",
    "\n",
    "@show p = argmax(abs.(A₃[:, 3]))\n",
    "U[3, :] .= A₃[p, :]\n",
    "L[:, 3] .= A₃[:, 3] ./ U[3, 3]\n",
    "A₄ = A₃ - L[:, 3] * U[3, :]'\n",
    "\n",
    "@show p = argmax(abs.(A₄[:, 4]))\n",
    "U[4, :] .= A₄[p, :]\n",
    "L[:, 4] .= A₄[:, 4] ./ U[4, 4];"
   ]
  },
  {
   "cell_type": "markdown",
   "id": "46fe2e4a",
   "metadata": {},
   "source": [
    "Мы действительно получили разложение $\\mathbf{A}=\\mathbf{LU}$"
   ]
  },
  {
   "cell_type": "code",
   "execution_count": 14,
   "id": "9571c567",
   "metadata": {},
   "outputs": [
    {
     "data": {
      "text/plain": [
       "4×4 Matrix{Float64}:\n",
       " 0.0  0.0  0.0          0.0\n",
       " 0.0  0.0  2.22045e-16  0.0\n",
       " 0.0  0.0  0.0          0.0\n",
       " 0.0  0.0  0.0          0.0"
      ]
     },
     "execution_count": 14,
     "metadata": {},
     "output_type": "execute_result"
    }
   ],
   "source": [
    "A₁ - L*U"
   ]
  },
  {
   "cell_type": "markdown",
   "id": "0fe27b91",
   "metadata": {},
   "source": [
    "При этом матрица $\\mathbf{U}$ имеет верхнетреугольную структуру"
   ]
  },
  {
   "cell_type": "code",
   "execution_count": 15,
   "id": "fa474d41",
   "metadata": {},
   "outputs": [
    {
     "data": {
      "text/plain": [
       "4×4 Matrix{Float64}:\n",
       " -8.0  6.0    5.0       1.0\n",
       "  0.0  4.75  11.125     7.625\n",
       "  0.0  0.0   -6.81579   4.71053\n",
       "  0.0  0.0    0.0      -4.61776"
      ]
     },
     "execution_count": 15,
     "metadata": {},
     "output_type": "execute_result"
    }
   ],
   "source": [
    "U"
   ]
  },
  {
   "cell_type": "markdown",
   "id": "74ab0350",
   "metadata": {},
   "source": [
    "А матрица $\\mathbf{L}$ теперь не нижнетреугольная."
   ]
  },
  {
   "cell_type": "code",
   "execution_count": 16,
   "id": "7c8d4d83",
   "metadata": {},
   "outputs": [
    {
     "data": {
      "text/plain": [
       "4×4 Matrix{Float64}:\n",
       " -0.125  0.578947   1.0       -0.0\n",
       " -0.125  0.578947   0.706564   1.0\n",
       " -0.625  1.0       -0.0       -0.0\n",
       "  1.0    0.0       -0.0       -0.0"
      ]
     },
     "execution_count": 16,
     "metadata": {},
     "output_type": "execute_result"
    }
   ],
   "source": [
    "L"
   ]
  },
  {
   "cell_type": "markdown",
   "id": "fde1510b",
   "metadata": {},
   "source": [
    "Чтобы восстановить структуру матрицы $\\mathbf{L}$, достаточно переставить в ней строки согласно последовательности выбора главных элементов. В нашем случае это были $4$, $3$, $1$ и $2$. В Julia это осуществляется с помощью следующего синтаксиса"
   ]
  },
  {
   "cell_type": "code",
   "execution_count": 17,
   "id": "6588cfc1",
   "metadata": {},
   "outputs": [
    {
     "data": {
      "text/plain": [
       "4×4 Matrix{Float64}:\n",
       "  1.0    0.0       -0.0       -0.0\n",
       " -0.625  1.0       -0.0       -0.0\n",
       " -0.125  0.578947   1.0       -0.0\n",
       " -0.125  0.578947   0.706564   1.0"
      ]
     },
     "execution_count": 17,
     "metadata": {},
     "output_type": "execute_result"
    }
   ],
   "source": [
    "L = L[[4, 3, 1, 2], :]"
   ]
  },
  {
   "cell_type": "markdown",
   "id": "e84de22c",
   "metadata": {},
   "source": [
    "*Voilà!*\n",
    "\n",
    "```{raw} html\n",
    "</div>\n",
    "```\n",
    "\n",
    "Справедливо следующее утверждение {cite}`fnc2017`.\n",
    "\n",
    "```{proof:proposition}\n",
    "LU-разложение с выбором главной строки выполнимо, если производится над обратимой матрицей.\n",
    "```\n",
    "\n",
    "Несмотря на это утверждение, существуют примеры обратимых матриц, для которых *численный алгоритм* разложения всё-таки не работает, однако на практике такие матрицы встречаются редко.\n",
    "\n",
    "## PLU-разложение\n",
    "\n",
    "Теперь есть всё, чтобы построить LU-разложение с выбором главной строки. Такое разложение называют PLU-разложением, где P от row-pivoting (*pivot* -- главный элемент).\n",
    "\n",
    "```{index} разложение; PLU\n",
    "```\n",
    "```{proof:definition} PLU-разложение\n",
    "Пусть дана матрица $\\mathbf{A}$ размера $n\\times n$. PLU-разложением называется тройка из\n",
    "\n",
    "- нижнетреугольной матрицы $\\mathbf{L}$;\n",
    "- верхнетреугольной матрицы $\\mathbf{U}$;\n",
    "- и перестановки $i_1, i_2, \\ldots, i_n$ индексов $1, \\ldots, n$.\n",
    "\n",
    "Эта тройка такова, что\n",
    "\n",
    "$$\n",
    "\\hat{\\mathbf{A}} = \\mathbf{LU},\n",
    "$$\n",
    "\n",
    "где строки $1, \\ldots, n$ матрицы $\\hat{\\mathbf{A}}$ это строки $i_1, i_2, \\ldots, i_n$ исходной матрицы $\\mathbf{A}$.\n",
    "```\n",
    "\n",
    "Итак, для реализации теперь необходимо возвращать не только матрицы разложения, но и вектор-перестановку.\n",
    "\n",
    "```{proof:function} plufact\n",
    "\n",
    "**LU-разложение с выбором главной строки**\n",
    "\n",
    ":::julia\n",
    "\"PLU-разложение матрицы `A`. Возвращает `L`, `U` и вектор-перестановку.\"\n",
    "function plufact(A::AbstractMatrix)\n",
    "    n = size(A, 1)\n",
    "    p = zeros(Int, n)\n",
    "    \n",
    "    U = float(similar(A))\n",
    "    L = similar(U)\n",
    "    Aₖ = float(copy(A))\n",
    "    \n",
    "    for k in 1:n-1\n",
    "        p[k] = argmax(abs.(Aₖ[:, k]))\n",
    "        U[k, :] .= Aₖ[p[k], :]\n",
    "        L[:, k] .= Aₖ[:, k] ./ U[k, k]\n",
    "        Aₖ .-= L[:, k] * U[k, :]'\n",
    "    end\n",
    "    \n",
    "    p[n] = argmax(abs.(Aₖ[:, n]))\n",
    "    U[n, n] = Aₖ[p[n], n]\n",
    "    L[:, n] = Aₖ[:, n] / U[n, n]\n",
    "    \n",
    "    return LowerTriangular(L[p, :]), UpperTriangular(U), p\n",
    "end\n",
    ":::\n",
    "```\n",
    "\n",
    "```{proof:demo} Пример решения системы\n",
    "```\n",
    "```{raw} html\n",
    "<div class=\"demo\">\n",
    "```\n",
    "\n",
    "Рассмотрим решение системы"
   ]
  },
  {
   "cell_type": "code",
   "execution_count": 18,
   "id": "349e5087",
   "metadata": {},
   "outputs": [],
   "source": [
    "A = [5  1  0  9; 4  2 -1  4; 8 -1  4  1; 5  7  4  6]\n",
    "b = [1, 2, 7, 3];"
   ]
  },
  {
   "cell_type": "markdown",
   "id": "59cd505b",
   "metadata": {},
   "source": [
    "Как и в случае LU, cначала выполним разложение"
   ]
  },
  {
   "cell_type": "code",
   "execution_count": 19,
   "id": "b85cf63b",
   "metadata": {},
   "outputs": [
    {
     "data": {
      "text/plain": [
       "4-element Vector{Int64}:\n",
       " 3\n",
       " 4\n",
       " 2\n",
       " 1"
      ]
     },
     "execution_count": 19,
     "metadata": {},
     "output_type": "execute_result"
    }
   ],
   "source": [
    "L, U, p = plufact(A);\n",
    "p"
   ]
  },
  {
   "cell_type": "markdown",
   "id": "6a9af534",
   "metadata": {},
   "source": [
    "Однако, для решения системы нужно сначала сделать перестановку в векторе правой части $\\mathbf{b}$"
   ]
  },
  {
   "cell_type": "code",
   "execution_count": 20,
   "id": "81366944",
   "metadata": {},
   "outputs": [
    {
     "data": {
      "text/plain": [
       "4-element Vector{Float64}:\n",
       "  0.8767123287671232\n",
       "  0.06849315068493142\n",
       "  0.10958904109589052\n",
       " -0.38356164383561636"
      ]
     },
     "execution_count": 20,
     "metadata": {},
     "output_type": "execute_result"
    }
   ],
   "source": [
    "z = forwardsub(L, b[p])\n",
    "x = backwardsub(U, z)"
   ]
  },
  {
   "cell_type": "markdown",
   "id": "559aa9a0",
   "metadata": {},
   "source": [
    "Невязка при этом составила"
   ]
  },
  {
   "cell_type": "code",
   "execution_count": 21,
   "id": "85cb7f02",
   "metadata": {},
   "outputs": [
    {
     "data": {
      "text/plain": [
       "4-element Vector{Float64}:\n",
       " -4.440892098500626e-16\n",
       "  2.220446049250313e-16\n",
       "  0.0\n",
       " -8.881784197001252e-16"
      ]
     },
     "execution_count": 21,
     "metadata": {},
     "output_type": "execute_result"
    }
   ],
   "source": [
    "b - A*x"
   ]
  },
  {
   "cell_type": "markdown",
   "id": "a0a4a87d",
   "metadata": {},
   "source": [
    "```{raw} html\n",
    "</div>\n",
    "```\n",
    "\n",
    "PLU-разложение является центральным алгоритмом для решения систем линейных уравнений общего вида. Его вычислительная сложность (число операций с плавающей точкой: флопс, flops) составляет $\\propto \\frac{2}{3} n^3$, где $n$ -- размер матрицы системы.\n",
    "\n",
    "В дальнейшем, упоминая LU-разложение, мы для краткости будем подразумевать PLU-разложение."
   ]
  }
 ],
 "metadata": {
  "jupytext": {
   "formats": "md:myst",
   "text_representation": {
    "extension": ".md",
    "format_name": "myst"
   }
  },
  "kernelspec": {
   "display_name": "Julia",
   "language": "julia",
   "name": "julia-1.6"
  },
  "language_info": {
   "file_extension": ".jl",
   "mimetype": "application/julia",
   "name": "julia",
   "version": "1.6.2"
  },
  "source_map": [
   13,
   17,
   31,
   42,
   44,
   48,
   50,
   54,
   63,
   65,
   69,
   73,
   77,
   79,
   111,
   121,
   125,
   129,
   135,
   139,
   143,
   145,
   151,
   165,
   169,
   171,
   175,
   177,
   181,
   183,
   187,
   189,
   267,
   270,
   274,
   277,
   281,
   284,
   288,
   290
  ]
 },
 "nbformat": 4,
 "nbformat_minor": 5
}