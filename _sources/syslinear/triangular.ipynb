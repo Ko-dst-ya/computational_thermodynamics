{
 "cells": [
  {
   "cell_type": "code",
   "execution_count": 1,
   "id": "32e734e4",
   "metadata": {
    "tags": [
     "remove-cell"
    ]
   },
   "outputs": [
    {
     "data": {
      "text/plain": [
       "backwardsub"
      ]
     },
     "execution_count": 1,
     "metadata": {},
     "output_type": "execute_result"
    }
   ],
   "source": [
    "include(\"../src.jl\")"
   ]
  },
  {
   "cell_type": "markdown",
   "id": "881a5ea4",
   "metadata": {},
   "source": [
    "# Треугольные системы\n",
    "\n",
    "Прежде всего рассмотрим решение треугольной системы.\n",
    "\n",
    "Рассмотрим частный случай для системы $\\mathbf{L}\\mathbf{x}=\\mathbf{b}$, где $\\mathbf{L}$ -- **нижнетреугольная** матрица размера 4\n",
    "\n",
    "```{math}\n",
    "\\begin{bmatrix}\n",
    "L_{11} & 0 & 0 & 0 \\\\\n",
    "L_{21} & L_{22} & 0 & 0 \\\\\n",
    "L_{31} & L_{32} & L_{33} & 0 \\\\\n",
    "L_{41} & L_{42} & L_{43} & L_{44}\n",
    "\\end{bmatrix}\n",
    "\\begin{bmatrix}\n",
    "x_1 \\\\ x_2 \\\\ x_3 \\\\ x_4\n",
    "\\end{bmatrix}\n",
    "=\n",
    "\\begin{bmatrix}\n",
    "b_1 \\\\ b_2 \\\\ b_3 \\\\ b_4\n",
    "\\end{bmatrix}\n",
    "```\n",
    "\n",
    "```{index} подстановка; прямая\n",
    "```\n",
    "Эта система может быть решена итерационно, начиная с $x_1$\n",
    "\n",
    "```{math}\n",
    "\\begin{split}\n",
    "x_1 &= \\frac{b_1}{L_{11}}\\\\\n",
    "x_2 &= \\frac{b_2 - L_{21}x_1}{L_{22}}\\\\\n",
    "x_3 &= \\frac{b_3 - (L_{31}x_1 + L_{32}x_2)}{L_{33}}\\\\\n",
    "x_4 &= \\frac{b_4 - (L_{41}x_1 + L_{42}x_2 + L_{43}x_3)}{L_{44}}\n",
    "\\end{split}\n",
    "```\n",
    "\n",
    "Алгоритм, который здесь применён называют **прямой подстановкой** (*forward substitution*).\n",
    "\n",
    "```{index} подстановка; обратная\n",
    "```\n",
    "\n",
    "Аналогично, система $\\mathbf{U}\\mathbf{x}=\\mathbf{b}$, где $\\mathbf{U}$ -- **верхнетреугольная** матрица, может быть решена алгоритмом **обратной подстановки** (*backward substitution*). Например, для случая $\\mathbf{U}$ размера 4\n",
    "\n",
    "```{math}\n",
    "\\begin{bmatrix}\n",
    "U_{11} & U_{12} & U_{13} & U_{14} \\\\\n",
    "0 & U_{22} & U_{23} & U_{24} \\\\\n",
    "0 & 0 & U_{33} & U_{34} \\\\\n",
    "0 & 0 & 0 & U_{44}\n",
    "\\end{bmatrix}\n",
    "\\begin{bmatrix}\n",
    "x_1 \\\\ x_2 \\\\ x_3 \\\\ x_4\n",
    "\\end{bmatrix}\n",
    "=\n",
    "\\begin{bmatrix}\n",
    "b_1 \\\\ b_2 \\\\ b_3 \\\\ b_4\n",
    "\\end{bmatrix}\n",
    "```\n",
    "\n",
    "алгоритм обратной подстановки начинается с $x_4$ и включает следующие шаги\n",
    "\n",
    "```{math}\n",
    "\\begin{split}\n",
    "x_4 &= \\frac{b_4}{U_{44}}\\\\\n",
    "x_3 &= \\frac{b_3 - U_{34}x_4}{U_{33}}\\\\\n",
    "x_2 &= \\frac{b_2 - (U_{23}x_3 + U_{24}x_4)}{U_{22}}\\\\\n",
    "x_1 &= \\frac{b_1 - (U_{12} x_2 + U_{13}x_3 + U_{14}x_4)}{U_{11}}.\n",
    "\\end{split}\n",
    "```\n",
    "\n",
    "Алгоритм постановки показывает следующее утверждение.\n",
    "\n",
    "```{proof:proposition}\n",
    "Треугольная матрица вырождена тогда и только тогда, когда хотя бы один ёё диагональнй элемент нулевой.\n",
    "```\n",
    "\n",
    "## Реализация\n",
    "\n",
    "```{proof:function} forwardsub\n",
    "\n",
    "**Алгоритм прямой подстановки**\n",
    "\n",
    ":::julia\n",
    "\"Возвращает решение системы `L`x = `b`, где `L` - нижнетреугольная квадратная матрица.\"\n",
    "function forwardsub(L::AbstractMatrix, b::AbstractVector)\n",
    "    x = float(similar(b))\n",
    "    x[1] = b[1] / L[1, 1]\n",
    "    for i in 2:size(L, 1)\n",
    "        s = sum(L[i, j]*x[j] for j in 1:i-1)\n",
    "        x[i] = (b[i] - s) / L[i, i]\n",
    "    end\n",
    "    return x\n",
    "end\n",
    ":::\n",
    "\n",
    "Конструкция `similar(b)` создаёт неинициализированный массив того же типа и размера, что и `b`.\n",
    "Вектор `b` может содержать, например, и целые числа `::Integer`.\n",
    "Поскольку в алгоритме деление приведёт к появлению чисел с плавающей точкой, массив `x` сразу приводится к массиву на основе `::Float`-чисел конструкцией `float(similar(b))`.\n",
    "```\n",
    "\n",
    "```{proof:function} backwardsub\n",
    "\n",
    "**Алгоритм обратной подстановки**\n",
    "\n",
    ":::julia\n",
    "\"Возвращает решение системы `U`x = `b`, где `U` - верхнетреугольная квадратная матрица.\"\n",
    "function backwardsub(U::AbstractMatrix, b::AbstractVector)\n",
    "    n = size(U, 1)\n",
    "    x = float(similar(b))\n",
    "    x[n] = b[n] / U[n, n]\n",
    "    for i in size(U, 1)-1:-1:1\n",
    "        s = sum(U[i, j] * x[j] for j in i+1:n)\n",
    "        x[i] = (b[i] - s) / U[i, i]\n",
    "    end\n",
    "    return x\n",
    "end\n",
    ":::\n",
    "```\n",
    "\n",
    "```{proof:demo}\n",
    "```\n",
    "```{raw} html\n",
    "<div class=\"demo\">\n",
    "```\n",
    "\n",
    "Применение прямой подстановки"
   ]
  },
  {
   "cell_type": "code",
   "execution_count": 2,
   "id": "ef63e867",
   "metadata": {},
   "outputs": [
    {
     "data": {
      "text/plain": [
       "([2.0, -1.0, -0.3333333333333333], [0.0, 0.0, 0.0])"
      ]
     },
     "execution_count": 2,
     "metadata": {},
     "output_type": "execute_result"
    }
   ],
   "source": [
    "A = [\n",
    "    1 0 0;\n",
    "    2 1 0;\n",
    "    4 2 3;\n",
    "]\n",
    "b = [2, 3, 5]\n",
    "x = forwardsub(A, b)\n",
    "x, A*x - b"
   ]
  },
  {
   "cell_type": "markdown",
   "id": "aecbe755",
   "metadata": {},
   "source": [
    "```{raw} html\n",
    "</div>\n",
    "```"
   ]
  }
 ],
 "metadata": {
  "jupytext": {
   "formats": "md:myst",
   "text_representation": {
    "extension": ".md",
    "format_name": "myst"
   }
  },
  "kernelspec": {
   "display_name": "Julia",
   "language": "julia",
   "name": "julia-1.6"
  },
  "language_info": {
   "file_extension": ".jl",
   "mimetype": "application/julia",
   "name": "julia",
   "version": "1.6.2"
  },
  "source_map": [
   13,
   17,
   145,
   154
  ]
 },
 "nbformat": 4,
 "nbformat_minor": 5
}