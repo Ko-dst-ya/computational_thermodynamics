{
 "cells": [
  {
   "cell_type": "code",
   "execution_count": 1,
   "id": "54faebe0",
   "metadata": {
    "tags": [
     "remove-cell"
    ]
   },
   "outputs": [
    {
     "data": {
      "text/plain": [
       "bisection"
      ]
     },
     "execution_count": 1,
     "metadata": {},
     "output_type": "execute_result"
    }
   ],
   "source": [
    "include(\"../src.jl\")"
   ]
  },
  {
   "cell_type": "markdown",
   "id": "061498e8",
   "metadata": {},
   "source": [
    "# Методы бисекции и regula falsi\n",
    "\n",
    "## Метод бисекции\n",
    "\n",
    "Для непрерывной функции известно, что, имея разные знаки $f(a)f(b)<0$ на концах отрезка $[a, b]$, функция $f$ имеет также корень $f(x^*)=0$ на этом отрезке $x^* \\in [a, b]$.\n",
    "\n",
    "Метод бисекции пользуется этим утверждением. Разобъём исходный отрезок $[x_1, x_2]$ пополам точкой $x_3 = (x_1 + x_2) / 2$. Тогда, если $x_3$ не является корнем уравнения, то $f$ имеет разные знаки либо на концах отрезка $[x_1, x_3]$, либо на концах отрезка $[x_3, x_2]$. Выберем в качестве нового отрезка тот, на котором функция имеет разные знаки и продолжим процедуру.\n",
    "\n",
    "Метод бисекции гарантирует локализацию корня. Поскольку за итерацию длина отрезка уменьшается вдвое $\\Delta_{k+1} = \\Delta_k / 2$, то имеет место *линейная сходимость* метода.\n",
    "\n",
    "Общая формула длины отрезка имеет вид\n",
    "\n",
    "```{math}\n",
    "\\Delta_k = \\frac{\\Delta_0}{2^k}.\n",
    "```\n",
    "\n",
    "Тогда, если потребовать точность найденного корня в виде\n",
    "\n",
    "```{math}\n",
    "|x_{k+1} - x_k| = \\Delta_k < \\text{xtol},\\quad k = 0, 1, 2, ...\n",
    "```\n",
    "\n",
    "то получим необходимое число итераций\n",
    "\n",
    "```{math}\n",
    "k_\\max = \\Big\\lceil \\log_2\\Big(\\frac{\\Delta_0}{\\text{xtol}}\\Big) \\Big\\rceil.\n",
    "```\n",
    "\n",
    "```{proof:function} bisection\n",
    "\n",
    "**Метод бисекции**\n",
    "\n",
    ":::julia\n",
    "\"\"\"\n",
    "Ищет корень уравнения `f`(x) = 0 бисекцией с точностью локализации корня `xtol`.\n",
    "Итерации заканчиваются досрочно, если `f`(xₖ) < `ftol`.\n",
    "\"\"\"\n",
    "function bisection(f, x₁, x₂; xtol=eps(), ftol=eps())\n",
    "    if x₁ > x₂; x₁, x₂ = x₂, x₁; end\n",
    "    y₁, y₂ = f(x₁), f(x₂)\n",
    "    sign(y₁) == sign(y₂) && error(\"Функция должна иметь разные знаки в концах отрезка\")\n",
    "    y₁ == 0 && return x₁\n",
    "    y₂ == 0 && return x₂\n",
    "    \n",
    "    maxiter = ceil(Int, log2((x₂-x₁)/(xtol)))\n",
    "    \n",
    "    for i in 1:maxiter\n",
    "        xnew = (x₂ + x₁) / 2\n",
    "        ynew = f(xnew)\n",
    "        \n",
    "        if sign(y₂) == sign(ynew)\n",
    "            x₂, y₂ = xnew, ynew\n",
    "        elseif sign(y₁) == sign(ynew)\n",
    "            x₁, y₁ = xnew, ynew\n",
    "        else\n",
    "            return xnew\n",
    "        end\n",
    "        abs(ynew) < ftol && return xnew\n",
    "    end\n",
    "    return (x₂ + x₁)/2\n",
    "end\n",
    ":::\n",
    "```"
   ]
  },
  {
   "cell_type": "code",
   "execution_count": 2,
   "id": "1ad7c596",
   "metadata": {},
   "outputs": [
    {
     "name": "stdout",
     "output_type": "stream",
     "text": [
      "bisection(f, 0.5, 1.6; xtol = 1.0e-6) = 0.9999997854232789\n",
      "bisection(f, 0.5, 1.6; xtol = 1.0e-10) = 1.0000000000145521\n"
     ]
    }
   ],
   "source": [
    "f = (x) -> -x^2 + x\n",
    "@show bisection(f, 0.5, 1.6; xtol=1e-6)\n",
    "@show bisection(f, 0.5, 1.6; xtol=1e-10);"
   ]
  }
 ],
 "metadata": {
  "jupytext": {
   "formats": "md:myst",
   "text_representation": {
    "extension": ".md",
    "format_name": "myst"
   }
  },
  "kernelspec": {
   "display_name": "Julia",
   "language": "julia",
   "name": "julia-1.6"
  },
  "language_info": {
   "file_extension": ".jl",
   "mimetype": "application/julia",
   "name": "julia",
   "version": "1.6.2"
  },
  "source_map": [
   13,
   17,
   83
  ]
 },
 "nbformat": 4,
 "nbformat_minor": 5
}